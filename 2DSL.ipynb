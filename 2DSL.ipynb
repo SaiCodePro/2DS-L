{
 "cells": [
  {
   "cell_type": "code",
   "execution_count": 1,
   "id": "8483aa36",
   "metadata": {},
   "outputs": [
    {
     "name": "stderr",
     "output_type": "stream",
     "text": [
      "2024-05-17 05:39:12.573076: I tensorflow/core/platform/cpu_feature_guard.cc:193] This TensorFlow binary is optimized with oneAPI Deep Neural Network Library (oneDNN) to use the following CPU instructions in performance-critical operations:  AVX2 AVX512F AVX512_VNNI FMA\n",
      "To enable them in other operations, rebuild TensorFlow with the appropriate compiler flags.\n"
     ]
    }
   ],
   "source": [
    "import yfinance as yf\n",
    "import matplotlib.pylab as plt\n",
    "from PyEMD import EMD\n",
    "import numpy as np\n",
    "from keras.models import Sequential\n",
    "from keras.layers import Dense\n",
    "import keras\n"
   ]
  },
  {
   "cell_type": "code",
   "execution_count": null,
   "id": "26b86dd4",
   "metadata": {},
   "outputs": [],
   "source": []
  },
  {
   "cell_type": "markdown",
   "id": "522a6722",
   "metadata": {},
   "source": [
    "# Load data"
   ]
  },
  {
   "cell_type": "code",
   "execution_count": null,
   "id": "2f7de756",
   "metadata": {},
   "outputs": [],
   "source": [
    "V = Load_data # data should be (N,) dims numpy array"
   ]
  },
  {
   "cell_type": "code",
   "execution_count": 4,
   "id": "ba8b7c0b",
   "metadata": {},
   "outputs": [],
   "source": [
    "emd = EMD()\n",
    "imf = emd(V).T"
   ]
  },
  {
   "cell_type": "code",
   "execution_count": null,
   "id": "f1f9d632",
   "metadata": {},
   "outputs": [],
   "source": [
    "plt.figure(figsize=(5,5),dpi=400)\n",
    "plt.style.use(\"tableau-colorblind10\")\n",
    "plt.plot(imf);\n",
    "plt.legend()\n",
    "plt.xlabel('Time')\n",
    "plt.ylabel('Decomposed value')\n"
   ]
  },
  {
   "cell_type": "markdown",
   "id": "e663de14",
   "metadata": {},
   "source": [
    "# Training "
   ]
  },
  {
   "cell_type": "code",
   "execution_count": null,
   "id": "3f3d92f8",
   "metadata": {},
   "outputs": [],
   "source": [
    "\n",
    "time = np.linspace(0,1,V.shape[0]).reshape(V.shape[0],1)\n",
    "dt = time[1,0]-time[0,0]\n",
    "\n",
    "data = np.hstack((time,imf))\n",
    "\n",
    "\n",
    "fi_2 = data[0:-2,1:]\n",
    "fi_1 = data[1:-1,1:]\n",
    "fi = data[2:,1:]\n",
    "v = V[2:]\n",
    "data = data[2:,:]\n",
    "Imf = imf[2:,:]\n",
    "\n",
    "\n",
    "y = (3*fi-4*fi_1+fi_2)/(2*dt)\n",
    "\n",
    "\n",
    "## split data for training and testing ##\n",
    "rat_train_data = .85\n",
    "\n",
    "train_data_size = int(data.shape[0]*rat_train_data)\n",
    "test_data_size = data.shape[0]-train_data_size\n",
    "\n",
    "Model = []\n",
    "\n",
    "for i in range(y.shape[1]):\n",
    "    print(i)\n",
    "    y[:,1].reshape(y.shape[0],1)\n",
    "    X_train = data[0:train_data_size,:]\n",
    "\n",
    "    Y_train = y[1:train_data_size+1,i].reshape(train_data_size,1)\n",
    "    \n",
    "    dim = X_train.shape[1]\n",
    "    \n",
    "    model = Sequential()\n",
    "    model.add(Dense(20, input_dim=dim, activation= \"relu\"))\n",
    "    model.add(Dense(20, activation= \"relu\"))\n",
    "    model.add(Dense(1))\n",
    "    optimizer = keras.optimizers.Adam(lr=0.01)\n",
    "    model.compile(loss='mean_squared_error', optimizer='adam')\n",
    "    model.fit(X_train, Y_train ,epochs = 1000, verbose=1)\n",
    "    \n",
    "    Model.append(model)"
   ]
  },
  {
   "cell_type": "markdown",
   "id": "a3a97a13",
   "metadata": {},
   "source": [
    "# Testing"
   ]
  },
  {
   "cell_type": "code",
   "execution_count": null,
   "id": "db7b8307",
   "metadata": {},
   "outputs": [],
   "source": [
    "rec1 = 0\n",
    "for i in range(y.shape[1]):\n",
    "    \n",
    "    X_train = data[train_data_size:-1,:]\n",
    "    \n",
    "    y_pre = Model[i].predict(X_train)\n",
    "    \n",
    "    y_next = y_pre*dt+Imf[train_data_size:-1,i].reshape(test_data_size-1,1)\n",
    "    rec1+= y_next\n",
    "    print(np.mean(np.abs(y_next - Imf[train_data_size+1:,i].reshape(test_data_size-1,1))))"
   ]
  },
  {
   "cell_type": "code",
   "execution_count": null,
   "id": "23602405",
   "metadata": {},
   "outputs": [],
   "source": [
    "plt.plot(rec1)\n",
    "plt.plot(v[train_data_size+1:])\n",
    "plt.show()\n",
    "error_d = rec1.T-v[train_data_size+1:]\n",
    "plt.hist(error_d.T)\n",
    "print(np.mean(np.abs(error_d.T)))\n",
    "print(np.var(np.abs(error_d.T)))"
   ]
  },
  {
   "cell_type": "code",
   "execution_count": null,
   "id": "73223720",
   "metadata": {
    "scrolled": true
   },
   "outputs": [],
   "source": [
    "\n",
    "X_train = np.array([data[train_data_size]])\n",
    "pre_li=[]\n",
    "for j in range(test_data_size):\n",
    "    print('j: ',j)\n",
    "    rec12 = 0\n",
    "    X_new = X_train*0\n",
    "    X_new[0,0]=X_train[0,0]+dt\n",
    "    for i in range(y.shape[1]):\n",
    "\n",
    "    #     X_train = data[train_data_size:-1,:]\n",
    "        \n",
    "        y_pre = Model[i].predict(X_train)\n",
    "        \n",
    "        \n",
    "        \n",
    "        y_next = y_pre*dt+X_train[0,i+1]\n",
    "        X_new[0,i+1] = y_next\n",
    "        rec12+= y_next\n",
    "        print(np.mean(np.abs(y_next - Imf[train_data_size+1:,i].reshape(test_data_size-1,1))))\n",
    "    X_train = X_new\n",
    "    pre_li.append(rec12)\n",
    "    \n",
    "    \n",
    "    "
   ]
  },
  {
   "cell_type": "code",
   "execution_count": null,
   "id": "122461fd",
   "metadata": {},
   "outputs": [],
   "source": [
    "p_l = []\n",
    "for i in pre_li:\n",
    "    p_l.append(i[0,0])\n",
    "\n",
    "\n",
    "plt.plot(p_l)\n",
    "\n",
    "plt.plot(v[train_data_size+1:])\n",
    "plt.show()\n",
    "error_d = np.array(p_l)[-test_data_size:]-v[train_data_size+1:][-test_data_size:]\n",
    "plt.plot(error_d.T)"
   ]
  },
  {
   "cell_type": "code",
   "execution_count": null,
   "id": "ab9c8ec8",
   "metadata": {},
   "outputs": [],
   "source": []
  }
 ],
 "metadata": {
  "kernelspec": {
   "display_name": "Python 3 (ipykernel)",
   "language": "python",
   "name": "python3"
  },
  "language_info": {
   "codemirror_mode": {
    "name": "ipython",
    "version": 3
   },
   "file_extension": ".py",
   "mimetype": "text/x-python",
   "name": "python",
   "nbconvert_exporter": "python",
   "pygments_lexer": "ipython3",
   "version": "3.10.9"
  }
 },
 "nbformat": 4,
 "nbformat_minor": 5
}
